{
 "cells": [
  {
   "cell_type": "code",
   "execution_count": 106,
   "metadata": {
    "collapsed": false
   },
   "outputs": [],
   "source": [
    "import numpy as np\n",
    "import pandas as pd\n",
    "import matplotlib.pyplot as plt\n",
    "import seaborn as sns\n",
    "import sys\n",
    "import os\n",
    "import json\n",
    "import re\n",
    "import cPickle as pickle\n",
    "import time\n",
    "from IPython.display import display\n",
    "from collections import OrderedDict\n",
    "from tqdm import tqdm_notebook\n",
    "\n",
    "import load_problems\n",
    "from scipy.sparse import csr_matrix, csc_matrix, coo_matrix\n",
    "from sklearn.preprocessing import OneHotEncoder\n",
    "from sklearn.linear_model import LogisticRegression, Ridge\n",
    "from sklearn.datasets import dump_svmlight_file\n",
    "from sklearn.metrics import roc_auc_score, mean_squared_error\n",
    "from sklearn.cross_validation import train_test_split\n",
    "from fastFM.mcmc import FMClassification, FMRegression\n",
    "\n",
    "%matplotlib inline\n",
    "sns.set_context('notebook', font_scale=1.6)"
   ]
  },
  {
   "cell_type": "markdown",
   "metadata": {},
   "source": [
    "# Read in Movielens Dataset"
   ]
  },
  {
   "cell_type": "code",
   "execution_count": 12,
   "metadata": {
    "collapsed": false
   },
   "outputs": [],
   "source": [
    "path = '/Users/scottcronin/Dropbox/data/movielens-small/'\n",
    "fn_ratings = 'ratings.csv'\n",
    "fn_tags = 'tags.csv'\n",
    "fn_movies = 'movies.csv'\n",
    "fn_links = 'links.csv'\n",
    "\n",
    "format_columns = lambda x: re.sub(r'(?<=[a-z])(?=[A-Z])', '_', x).lower()\n",
    "\n",
    "ratings = pd.read_csv(path + fn_ratings)\n",
    "ratings.columns = ratings.columns.map(format_columns)\n",
    "ratings = ratings.sort_values(['user_id', 'movie_id', 'timestamp'], ascending=[1,1,1])\n",
    "\n",
    "movies = pd.read_csv(path + fn_movies)\n",
    "movies.columns = movies.columns.map(format_columns)\n",
    "\n",
    "tags = pd.read_csv(path + fn_tags)\n",
    "tags.columns = tags.columns.map(format_columns)\n",
    "\n",
    "links = pd.read_csv(path + fn_links)\n",
    "links.columns = links.columns.map(format_columns)"
   ]
  },
  {
   "cell_type": "code",
   "execution_count": 13,
   "metadata": {
    "collapsed": false
   },
   "outputs": [
    {
     "name": "stdout",
     "output_type": "stream",
     "text": [
      "<class 'pandas.core.frame.DataFrame'>\n",
      "Int64Index: 100004 entries, 0 to 100003\n",
      "Data columns (total 4 columns):\n",
      "user_id      100004 non-null int64\n",
      "movie_id     100004 non-null int64\n",
      "rating       100004 non-null float64\n",
      "timestamp    100004 non-null int64\n",
      "dtypes: float64(1), int64(3)\n",
      "memory usage: 3.8 MB\n",
      "None\n"
     ]
    },
    {
     "data": {
      "text/html": [
       "<div>\n",
       "<table border=\"1\" class=\"dataframe\">\n",
       "  <thead>\n",
       "    <tr style=\"text-align: right;\">\n",
       "      <th></th>\n",
       "      <th>user_id</th>\n",
       "      <th>movie_id</th>\n",
       "      <th>rating</th>\n",
       "      <th>timestamp</th>\n",
       "    </tr>\n",
       "  </thead>\n",
       "  <tbody>\n",
       "    <tr>\n",
       "      <th>0</th>\n",
       "      <td>1</td>\n",
       "      <td>31</td>\n",
       "      <td>2.5</td>\n",
       "      <td>1260759144</td>\n",
       "    </tr>\n",
       "    <tr>\n",
       "      <th>1</th>\n",
       "      <td>1</td>\n",
       "      <td>1029</td>\n",
       "      <td>3.0</td>\n",
       "      <td>1260759179</td>\n",
       "    </tr>\n",
       "    <tr>\n",
       "      <th>2</th>\n",
       "      <td>1</td>\n",
       "      <td>1061</td>\n",
       "      <td>3.0</td>\n",
       "      <td>1260759182</td>\n",
       "    </tr>\n",
       "  </tbody>\n",
       "</table>\n",
       "</div>"
      ],
      "text/plain": [
       "   user_id  movie_id  rating   timestamp\n",
       "0        1        31     2.5  1260759144\n",
       "1        1      1029     3.0  1260759179\n",
       "2        1      1061     3.0  1260759182"
      ]
     },
     "metadata": {},
     "output_type": "display_data"
    },
    {
     "name": "stdout",
     "output_type": "stream",
     "text": [
      "------------------\n",
      "\n",
      "\n",
      "<class 'pandas.core.frame.DataFrame'>\n",
      "RangeIndex: 9125 entries, 0 to 9124\n",
      "Data columns (total 3 columns):\n",
      "movie_id    9125 non-null int64\n",
      "title       9125 non-null object\n",
      "genres      9125 non-null object\n",
      "dtypes: int64(1), object(2)\n",
      "memory usage: 213.9+ KB\n",
      "None\n"
     ]
    },
    {
     "data": {
      "text/html": [
       "<div>\n",
       "<table border=\"1\" class=\"dataframe\">\n",
       "  <thead>\n",
       "    <tr style=\"text-align: right;\">\n",
       "      <th></th>\n",
       "      <th>movie_id</th>\n",
       "      <th>title</th>\n",
       "      <th>genres</th>\n",
       "    </tr>\n",
       "  </thead>\n",
       "  <tbody>\n",
       "    <tr>\n",
       "      <th>0</th>\n",
       "      <td>1</td>\n",
       "      <td>Toy Story (1995)</td>\n",
       "      <td>Adventure|Animation|Children|Comedy|Fantasy</td>\n",
       "    </tr>\n",
       "    <tr>\n",
       "      <th>1</th>\n",
       "      <td>2</td>\n",
       "      <td>Jumanji (1995)</td>\n",
       "      <td>Adventure|Children|Fantasy</td>\n",
       "    </tr>\n",
       "    <tr>\n",
       "      <th>2</th>\n",
       "      <td>3</td>\n",
       "      <td>Grumpier Old Men (1995)</td>\n",
       "      <td>Comedy|Romance</td>\n",
       "    </tr>\n",
       "  </tbody>\n",
       "</table>\n",
       "</div>"
      ],
      "text/plain": [
       "   movie_id                    title  \\\n",
       "0         1         Toy Story (1995)   \n",
       "1         2           Jumanji (1995)   \n",
       "2         3  Grumpier Old Men (1995)   \n",
       "\n",
       "                                        genres  \n",
       "0  Adventure|Animation|Children|Comedy|Fantasy  \n",
       "1                   Adventure|Children|Fantasy  \n",
       "2                               Comedy|Romance  "
      ]
     },
     "metadata": {},
     "output_type": "display_data"
    },
    {
     "name": "stdout",
     "output_type": "stream",
     "text": [
      "------------------\n",
      "\n",
      "\n",
      "<class 'pandas.core.frame.DataFrame'>\n",
      "RangeIndex: 1296 entries, 0 to 1295\n",
      "Data columns (total 4 columns):\n",
      "user_id      1296 non-null int64\n",
      "movie_id     1296 non-null int64\n",
      "tag          1296 non-null object\n",
      "timestamp    1296 non-null int64\n",
      "dtypes: int64(3), object(1)\n",
      "memory usage: 40.6+ KB\n",
      "None\n"
     ]
    },
    {
     "data": {
      "text/html": [
       "<div>\n",
       "<table border=\"1\" class=\"dataframe\">\n",
       "  <thead>\n",
       "    <tr style=\"text-align: right;\">\n",
       "      <th></th>\n",
       "      <th>user_id</th>\n",
       "      <th>movie_id</th>\n",
       "      <th>tag</th>\n",
       "      <th>timestamp</th>\n",
       "    </tr>\n",
       "  </thead>\n",
       "  <tbody>\n",
       "    <tr>\n",
       "      <th>0</th>\n",
       "      <td>15</td>\n",
       "      <td>339</td>\n",
       "      <td>sandra 'boring' bullock</td>\n",
       "      <td>1138537770</td>\n",
       "    </tr>\n",
       "    <tr>\n",
       "      <th>1</th>\n",
       "      <td>15</td>\n",
       "      <td>1955</td>\n",
       "      <td>dentist</td>\n",
       "      <td>1193435061</td>\n",
       "    </tr>\n",
       "    <tr>\n",
       "      <th>2</th>\n",
       "      <td>15</td>\n",
       "      <td>7478</td>\n",
       "      <td>Cambodia</td>\n",
       "      <td>1170560997</td>\n",
       "    </tr>\n",
       "  </tbody>\n",
       "</table>\n",
       "</div>"
      ],
      "text/plain": [
       "   user_id  movie_id                      tag   timestamp\n",
       "0       15       339  sandra 'boring' bullock  1138537770\n",
       "1       15      1955                  dentist  1193435061\n",
       "2       15      7478                 Cambodia  1170560997"
      ]
     },
     "metadata": {},
     "output_type": "display_data"
    },
    {
     "name": "stdout",
     "output_type": "stream",
     "text": [
      "------------------\n",
      "\n",
      "\n",
      "<class 'pandas.core.frame.DataFrame'>\n",
      "RangeIndex: 9125 entries, 0 to 9124\n",
      "Data columns (total 3 columns):\n",
      "movie_id    9125 non-null int64\n",
      "imdb_id     9125 non-null int64\n",
      "tmdb_id     9112 non-null float64\n",
      "dtypes: float64(1), int64(2)\n",
      "memory usage: 213.9 KB\n",
      "None\n"
     ]
    },
    {
     "data": {
      "text/html": [
       "<div>\n",
       "<table border=\"1\" class=\"dataframe\">\n",
       "  <thead>\n",
       "    <tr style=\"text-align: right;\">\n",
       "      <th></th>\n",
       "      <th>movie_id</th>\n",
       "      <th>imdb_id</th>\n",
       "      <th>tmdb_id</th>\n",
       "    </tr>\n",
       "  </thead>\n",
       "  <tbody>\n",
       "    <tr>\n",
       "      <th>0</th>\n",
       "      <td>1</td>\n",
       "      <td>114709</td>\n",
       "      <td>862.0</td>\n",
       "    </tr>\n",
       "    <tr>\n",
       "      <th>1</th>\n",
       "      <td>2</td>\n",
       "      <td>113497</td>\n",
       "      <td>8844.0</td>\n",
       "    </tr>\n",
       "    <tr>\n",
       "      <th>2</th>\n",
       "      <td>3</td>\n",
       "      <td>113228</td>\n",
       "      <td>15602.0</td>\n",
       "    </tr>\n",
       "  </tbody>\n",
       "</table>\n",
       "</div>"
      ],
      "text/plain": [
       "   movie_id  imdb_id  tmdb_id\n",
       "0         1   114709    862.0\n",
       "1         2   113497   8844.0\n",
       "2         3   113228  15602.0"
      ]
     },
     "metadata": {},
     "output_type": "display_data"
    },
    {
     "name": "stdout",
     "output_type": "stream",
     "text": [
      "------------------\n",
      "\n",
      "\n"
     ]
    }
   ],
   "source": [
    "def show_df(df):\n",
    "    print df.info(null_counts=30)\n",
    "    display(df.head(3))\n",
    "    print '------------------\\n\\n'\n",
    "    \n",
    "show_df(ratings)\n",
    "show_df(movies)\n",
    "show_df(tags)\n",
    "show_df(links)"
   ]
  },
  {
   "cell_type": "markdown",
   "metadata": {
    "heading_collapsed": true
   },
   "source": [
    "## Testing One Hot Encoding"
   ]
  },
  {
   "cell_type": "markdown",
   "metadata": {
    "hidden": true
   },
   "source": [
    "### Dummy data"
   ]
  },
  {
   "cell_type": "code",
   "execution_count": null,
   "metadata": {
    "collapsed": false,
    "hidden": true
   },
   "outputs": [],
   "source": [
    "encoder = OneHotEncoder(categorical_features=[0,2], handle_unknown='ignore')\n",
    "dummy = np.array([[0, 40, 3], [1, 50, 0], [0, 45, 1], [1, 30, 2]])\n",
    "# dummy = np.array([[0, 3], [1, 0], [0, 1], [1, 2]])\n",
    "\n",
    "print dummy, '\\n'\n",
    "print encoder.fit_transform(dummy), '\\n'\n",
    "print encoder.fit_transform(dummy).todense()"
   ]
  },
  {
   "cell_type": "markdown",
   "metadata": {
    "hidden": true
   },
   "source": [
    "### Clean Users and Movies"
   ]
  },
  {
   "cell_type": "code",
   "execution_count": null,
   "metadata": {
    "collapsed": false,
    "hidden": true
   },
   "outputs": [],
   "source": [
    "movie_mapping = (\n",
    "    ratings\n",
    "    .loc[:, ['movie_id']]\n",
    "    .sort_values('movie_id')\n",
    "    .drop_duplicates()\n",
    "    .reset_index(drop=True)\n",
    "    .reset_index()\n",
    "    .set_index('movie_id')\n",
    "    ['index']\n",
    "    )\n",
    "\n",
    "user_mapping = (\n",
    "    ratings\n",
    "    .loc[:, ['user_id']]\n",
    "    .sort_values('user_id')\n",
    "    .drop_duplicates()\n",
    "    .reset_index(drop=True)\n",
    "    .reset_index()\n",
    "    .set_index('user_id')\n",
    "    ['index']\n",
    "    )\n",
    "\n",
    "ratings2 = ratings.sort_values(['user_id', 'movie_id', 'timestamp'], ascending=[1,1,1])\n",
    "ratings2.movie_id = ratings.movie_id.map(movie_mapping)\n",
    "ratings2.user_id = ratings.user_id.map(user_mapping)"
   ]
  },
  {
   "cell_type": "code",
   "execution_count": null,
   "metadata": {
    "collapsed": false,
    "hidden": true
   },
   "outputs": [],
   "source": [
    "display((\n",
    "    ratings2\n",
    "    .assign(user_id=lambda df: df.user_id)\n",
    "    .assign(movie_id=lambda df: df.movie_id + len(df.user_id.unique()))\n",
    ").head())\n",
    "\n",
    "encoder = OneHotEncoder(categorical_features=[0,1], handle_unknown='ignore')\n",
    "ratings_encoded = encoder.fit_transform(ratings.loc[:, ['user_id', 'movie_id', 'rating']])\n",
    "print ratings_encoded.__repr__(), '\\n'\n",
    "\n",
    "for row in xrange(5):\n",
    "    print ratings_encoded.getrow(row)"
   ]
  },
  {
   "cell_type": "markdown",
   "metadata": {
    "hidden": true
   },
   "source": [
    "Formatting checks out when done manually"
   ]
  },
  {
   "cell_type": "markdown",
   "metadata": {},
   "source": [
    "# Read in Benchmark Movielens Data"
   ]
  },
  {
   "cell_type": "code",
   "execution_count": 95,
   "metadata": {
    "collapsed": false
   },
   "outputs": [],
   "source": [
    "def fitpredict_logistic(trainX, trainY, testX, classification=True, **params):\n",
    "    encoder = OneHotEncoder(handle_unknown='ignore').fit(trainX)\n",
    "    trainX = encoder.transform(trainX)\n",
    "    testX = encoder.transform(testX)\n",
    "    if classification:\n",
    "        clf = LogisticRegression(**params)\n",
    "        clf.fit(trainX, trainY)\n",
    "        return clf.predict_proba(testX)[:, 1]\n",
    "    else:\n",
    "        clf = Ridge(**params)\n",
    "        clf.fit(trainX, trainY)\n",
    "        return clf.predict(testX)\n",
    "\n",
    "def fitpredict_fastfm(trainX, trainY, testX, classification=True, rank=8, n_iter=100):\n",
    "    encoder = OneHotEncoder(handle_unknown='ignore').fit(trainX)\n",
    "    trainX = encoder.transform(trainX)\n",
    "    testX = encoder.transform(testX)\n",
    "    if classification:\n",
    "        clf = FMClassification(rank=rank, n_iter=n_iter)\n",
    "        return clf.fit_predict_proba(trainX, trainY, testX)\n",
    "    else:\n",
    "        clf = FMRegression(rank=rank, n_iter=n_iter)\n",
    "        return clf.fit_predict(trainX, trainY, testX)\n",
    "    \n",
    "def fitpredict_libfm(trainX, trainY, testX, classification=True, rank=8, n_iter=100):\n",
    "    encoder = OneHotEncoder(handle_unknown='ignore').fit(trainX)\n",
    "    trainX = encoder.transform(trainX)\n",
    "    testX = encoder.transform(testX)\n",
    "    train_file = 'libfm_train.txt'\n",
    "    test_file = 'libfm_test.txt'\n",
    "    with open(train_file, 'w') as f:\n",
    "        dump_svmlight_file(trainX, trainY, f=f)\n",
    "    with open(test_file, 'w') as f:\n",
    "        dump_svmlight_file(testX, np.zeros(testX.shape[0]), f=f)\n",
    "    task = 'c' if classification else 'r'\n",
    "    !{os.environ['LIBFM']} -task $task -method mcmc -train $train_file -test $test_file -iter $n_iter -dim '1,1,$rank' -out output.libfm\n",
    "    \n",
    "    libfm_pred = pd.read_csv('output.libfm', header=None).values.flatten()\n",
    "    return libfm_pred\n",
    "\n",
    "def test_on_dataset(trainX, testX, trainY, testY, task_name, classification=True, use_pylibfm=True):\n",
    "    algorithms = OrderedDict()\n",
    "    algorithms['logistic'] = fitpredict_logistic\n",
    "    algorithms['fastFM']   = fitpredict_fastfm\n",
    "    algorithms['libFM']    = fitpredict_libfm\n",
    "    results = pd.DataFrame()\n",
    "\n",
    "    for name, fit_predict in tqdm_notebook(algorithms.items()):\n",
    "        start = time.time()\n",
    "        predictions = fit_predict(trainX, trainY, testX, classification=classification)\n",
    "        spent_time = time.time() - start\n",
    "        results.ix[name, 'time'] = spent_time\n",
    "        if classification:\n",
    "            results.ix[name, 'ROC AUC'] = roc_auc_score(testY, predictions)\n",
    "        else:\n",
    "            results.ix[name, 'RMSE'] = np.mean((testY - predictions) ** 2) ** 0.5\n",
    "            \n",
    "    all_results[task_name] = results\n",
    "    with open('saved_results.pkl', 'w') as f:\n",
    "        pickle.dump(all_results, f)\n",
    "        \n",
    "    return results"
   ]
  },
  {
   "cell_type": "markdown",
   "metadata": {},
   "source": [
    "## Movielens 100k - No Side Data"
   ]
  },
  {
   "cell_type": "code",
   "execution_count": 99,
   "metadata": {
    "collapsed": true
   },
   "outputs": [
    {
     "name": "stdout",
     "output_type": "stream",
     "text": [
      "----------------------------------------------------------------------------\n",
      "libFM\n",
      "  Version: 1.4.2\n",
      "  Author:  Steffen Rendle, srendle@libfm.org\n",
      "  WWW:     http://www.libfm.org/\n",
      "This program comes with ABSOLUTELY NO WARRANTY; for details see license.txt.\n",
      "This is free software, and you are welcome to redistribute it under certain\n",
      "conditions; for details see license.txt.\n",
      "----------------------------------------------------------------------------\n",
      "Loading train...\t\n",
      "has x = 0\n",
      "has xt = 1\n",
      "num_rows=75000\tnum_values=150000\tnum_features=2585\tmin_target=1\tmax_target=5\n",
      "Loading test... \t\n",
      "has x = 0\n",
      "has xt = 1\n",
      "num_rows=25000\tnum_values=49953\tnum_features=2570\tmin_target=0\tmax_target=0\n",
      "#relations: 0\n",
      "Loading meta data...\t\n",
      "#Iter=  0\tTrain=1.09686\tTest=3.52148\n",
      "#Iter=  1\tTrain=0.991496\tTest=3.54666\n",
      "#Iter=  2\tTrain=0.952497\tTest=3.55908\n",
      "#Iter=  3\tTrain=0.933834\tTest=3.5653\n",
      "#Iter=  4\tTrain=0.927805\tTest=3.56799\n",
      "#Iter=  5\tTrain=0.925\tTest=3.5698\n",
      "#Iter=  6\tTrain=0.924065\tTest=3.57231\n",
      "#Iter=  7\tTrain=0.924506\tTest=3.5744\n",
      "#Iter=  8\tTrain=0.924148\tTest=3.57551\n",
      "#Iter=  9\tTrain=0.925277\tTest=3.57682\n",
      "#Iter= 10\tTrain=0.925031\tTest=3.57786\n",
      "#Iter= 11\tTrain=0.925215\tTest=3.57883\n",
      "#Iter= 12\tTrain=0.924197\tTest=3.57954\n",
      "#Iter= 13\tTrain=0.924466\tTest=3.57993\n",
      "#Iter= 14\tTrain=0.923557\tTest=3.58064\n",
      "#Iter= 15\tTrain=0.924682\tTest=3.5809\n",
      "#Iter= 16\tTrain=0.923497\tTest=3.58111\n",
      "#Iter= 17\tTrain=0.924478\tTest=3.58141\n",
      "#Iter= 18\tTrain=0.924414\tTest=3.58198\n",
      "#Iter= 19\tTrain=0.924302\tTest=3.58246\n",
      "#Iter= 20\tTrain=0.924032\tTest=3.58277\n",
      "#Iter= 21\tTrain=0.924336\tTest=3.58296\n",
      "#Iter= 22\tTrain=0.924111\tTest=3.58295\n",
      "#Iter= 23\tTrain=0.922913\tTest=3.58323\n",
      "#Iter= 24\tTrain=0.923422\tTest=3.58361\n",
      "#Iter= 25\tTrain=0.923496\tTest=3.58391\n",
      "#Iter= 26\tTrain=0.923297\tTest=3.58399\n",
      "#Iter= 27\tTrain=0.922875\tTest=3.58402\n",
      "#Iter= 28\tTrain=0.924465\tTest=3.58412\n",
      "#Iter= 29\tTrain=0.923241\tTest=3.58419\n",
      "#Iter= 30\tTrain=0.922288\tTest=3.58429\n",
      "#Iter= 31\tTrain=0.922696\tTest=3.58464\n",
      "#Iter= 32\tTrain=0.921262\tTest=3.58465\n",
      "#Iter= 33\tTrain=0.920849\tTest=3.58468\n",
      "#Iter= 34\tTrain=0.918857\tTest=3.58463\n",
      "#Iter= 35\tTrain=0.91825\tTest=3.58483\n",
      "#Iter= 36\tTrain=0.911975\tTest=3.58521\n",
      "#Iter= 37\tTrain=0.903746\tTest=3.58537\n",
      "#Iter= 38\tTrain=0.897656\tTest=3.5857\n",
      "#Iter= 39\tTrain=0.892225\tTest=3.58591\n",
      "#Iter= 40\tTrain=0.888532\tTest=3.5861\n",
      "#Iter= 41\tTrain=0.886728\tTest=3.58614\n",
      "#Iter= 42\tTrain=0.886289\tTest=3.58628\n",
      "#Iter= 43\tTrain=0.884915\tTest=3.58633\n",
      "#Iter= 44\tTrain=0.883979\tTest=3.58647\n",
      "#Iter= 45\tTrain=0.882581\tTest=3.58641\n",
      "#Iter= 46\tTrain=0.884012\tTest=3.58631\n",
      "#Iter= 47\tTrain=0.882304\tTest=3.58625\n",
      "#Iter= 48\tTrain=0.882262\tTest=3.58634\n",
      "#Iter= 49\tTrain=0.881588\tTest=3.58645\n",
      "#Iter= 50\tTrain=0.881104\tTest=3.5865\n",
      "#Iter= 51\tTrain=0.881191\tTest=3.58659\n",
      "#Iter= 52\tTrain=0.881978\tTest=3.58655\n",
      "#Iter= 53\tTrain=0.881413\tTest=3.58663\n",
      "#Iter= 54\tTrain=0.881046\tTest=3.58661\n",
      "#Iter= 55\tTrain=0.880597\tTest=3.5866\n",
      "#Iter= 56\tTrain=0.8794\tTest=3.58665\n",
      "#Iter= 57\tTrain=0.880871\tTest=3.58668\n",
      "#Iter= 58\tTrain=0.880018\tTest=3.58671\n",
      "#Iter= 59\tTrain=0.879436\tTest=3.58682\n",
      "#Iter= 60\tTrain=0.877664\tTest=3.58686\n",
      "#Iter= 61\tTrain=0.874609\tTest=3.58685\n",
      "#Iter= 62\tTrain=0.874882\tTest=3.58683\n",
      "#Iter= 63\tTrain=0.872325\tTest=3.58679\n",
      "#Iter= 64\tTrain=0.871722\tTest=3.58676\n",
      "#Iter= 65\tTrain=0.870846\tTest=3.58689\n",
      "#Iter= 66\tTrain=0.86817\tTest=3.58696\n",
      "#Iter= 67\tTrain=0.867913\tTest=3.58701\n",
      "#Iter= 68\tTrain=0.865932\tTest=3.587\n",
      "#Iter= 69\tTrain=0.865234\tTest=3.58714\n",
      "#Iter= 70\tTrain=0.864524\tTest=3.58718\n",
      "#Iter= 71\tTrain=0.864396\tTest=3.58724\n",
      "#Iter= 72\tTrain=0.864278\tTest=3.5873\n",
      "#Iter= 73\tTrain=0.863723\tTest=3.58736\n",
      "#Iter= 74\tTrain=0.862118\tTest=3.58741\n",
      "#Iter= 75\tTrain=0.860564\tTest=3.58759\n",
      "#Iter= 76\tTrain=0.859243\tTest=3.58765\n",
      "#Iter= 77\tTrain=0.857528\tTest=3.58768\n",
      "#Iter= 78\tTrain=0.856103\tTest=3.58771\n",
      "#Iter= 79\tTrain=0.853692\tTest=3.5877\n",
      "#Iter= 80\tTrain=0.85133\tTest=3.58774\n",
      "#Iter= 81\tTrain=0.850238\tTest=3.58781\n",
      "#Iter= 82\tTrain=0.846605\tTest=3.58784\n",
      "#Iter= 83\tTrain=0.843082\tTest=3.58794\n",
      "#Iter= 84\tTrain=0.840299\tTest=3.58801\n",
      "#Iter= 85\tTrain=0.840362\tTest=3.58804\n",
      "#Iter= 86\tTrain=0.838044\tTest=3.58816\n",
      "#Iter= 87\tTrain=0.835775\tTest=3.58826\n",
      "#Iter= 88\tTrain=0.8353\tTest=3.58833\n",
      "#Iter= 89\tTrain=0.832344\tTest=3.58848\n",
      "#Iter= 90\tTrain=0.830943\tTest=3.58861\n",
      "#Iter= 91\tTrain=0.827748\tTest=3.58864\n",
      "#Iter= 92\tTrain=0.826092\tTest=3.58867\n",
      "#Iter= 93\tTrain=0.82203\tTest=3.58867\n",
      "#Iter= 94\tTrain=0.819041\tTest=3.58872\n",
      "#Iter= 95\tTrain=0.821234\tTest=3.5887\n",
      "#Iter= 96\tTrain=0.818782\tTest=3.58878\n",
      "#Iter= 97\tTrain=0.819274\tTest=3.58878\n",
      "#Iter= 98\tTrain=0.817301\tTest=3.58879\n",
      "#Iter= 99\tTrain=0.814916\tTest=3.58881\n",
      "\n"
     ]
    },
    {
     "data": {
      "text/html": [
       "<div>\n",
       "<table border=\"1\" class=\"dataframe\">\n",
       "  <thead>\n",
       "    <tr style=\"text-align: right;\">\n",
       "      <th></th>\n",
       "      <th>time</th>\n",
       "      <th>RMSE</th>\n",
       "    </tr>\n",
       "  </thead>\n",
       "  <tbody>\n",
       "    <tr>\n",
       "      <th>logistic</th>\n",
       "      <td>0.311443</td>\n",
       "      <td>0.942664</td>\n",
       "    </tr>\n",
       "    <tr>\n",
       "      <th>fastFM</th>\n",
       "      <td>3.043929</td>\n",
       "      <td>0.915184</td>\n",
       "    </tr>\n",
       "    <tr>\n",
       "      <th>libFM</th>\n",
       "      <td>4.346590</td>\n",
       "      <td>0.913785</td>\n",
       "    </tr>\n",
       "  </tbody>\n",
       "</table>\n",
       "</div>"
      ],
      "text/plain": [
       "              time      RMSE\n",
       "logistic  0.311443  0.942664\n",
       "fastFM    3.043929  0.915184\n",
       "libFM     4.346590  0.913785"
      ]
     },
     "metadata": {},
     "output_type": "display_data"
    }
   ],
   "source": [
    "trainX, testX, trainY, testY = load_problems.load_problem_movielens_100k()\n",
    "\n",
    "all_results = OrderedDict()\n",
    "try:\n",
    "    with open('./saved_results.pkl') as f:\n",
    "        all_results = pickle.load(f)\n",
    "except:\n",
    "    pass\n",
    "\n",
    "test_on_dataset(trainX, testX, trainY, testY, task_name='ml100k, ids', classification=False)"
   ]
  },
  {
   "cell_type": "code",
   "execution_count": 102,
   "metadata": {
    "collapsed": false
   },
   "outputs": [
    {
     "data": {
      "text/html": [
       "<div>\n",
       "<table border=\"1\" class=\"dataframe\">\n",
       "  <thead>\n",
       "    <tr style=\"text-align: right;\">\n",
       "      <th></th>\n",
       "      <th>time</th>\n",
       "      <th>RMSE</th>\n",
       "    </tr>\n",
       "  </thead>\n",
       "  <tbody>\n",
       "    <tr>\n",
       "      <th>logistic</th>\n",
       "      <td>0.311443</td>\n",
       "      <td>0.942664</td>\n",
       "    </tr>\n",
       "    <tr>\n",
       "      <th>fastFM</th>\n",
       "      <td>3.043929</td>\n",
       "      <td>0.915184</td>\n",
       "    </tr>\n",
       "    <tr>\n",
       "      <th>libFM</th>\n",
       "      <td>4.346590</td>\n",
       "      <td>0.913785</td>\n",
       "    </tr>\n",
       "  </tbody>\n",
       "</table>\n",
       "</div>"
      ],
      "text/plain": [
       "              time      RMSE\n",
       "logistic  0.311443  0.942664\n",
       "fastFM    3.043929  0.915184\n",
       "libFM     4.346590  0.913785"
      ]
     },
     "metadata": {},
     "output_type": "display_data"
    }
   ],
   "source": [
    "display(all_results['ml100k, ids'])"
   ]
  },
  {
   "cell_type": "markdown",
   "metadata": {},
   "source": [
    "## Movielens 100k - With Side Data"
   ]
  },
  {
   "cell_type": "code",
   "execution_count": 104,
   "metadata": {
    "collapsed": true
   },
   "outputs": [
    {
     "data": {
      "text/html": [
       "<div>\n",
       "<table border=\"1\" class=\"dataframe\">\n",
       "  <thead>\n",
       "    <tr style=\"text-align: right;\">\n",
       "      <th></th>\n",
       "      <th>user</th>\n",
       "      <th>movie</th>\n",
       "      <th>age</th>\n",
       "      <th>gender</th>\n",
       "      <th>occupation</th>\n",
       "      <th>zip</th>\n",
       "      <th>released</th>\n",
       "      <th>unknown</th>\n",
       "      <th>Action</th>\n",
       "      <th>Adventure</th>\n",
       "      <th>...</th>\n",
       "      <th>Fantasy</th>\n",
       "      <th>Film-Noir</th>\n",
       "      <th>Horror</th>\n",
       "      <th>Musical</th>\n",
       "      <th>Mystery</th>\n",
       "      <th>Romance</th>\n",
       "      <th>Sci-Fi</th>\n",
       "      <th>Thriller</th>\n",
       "      <th>War</th>\n",
       "      <th>Western</th>\n",
       "    </tr>\n",
       "  </thead>\n",
       "  <tbody>\n",
       "    <tr>\n",
       "      <th>98980</th>\n",
       "      <td>692</td>\n",
       "      <td>1310</td>\n",
       "      <td>33</td>\n",
       "      <td>0</td>\n",
       "      <td>7</td>\n",
       "      <td>615</td>\n",
       "      <td>68</td>\n",
       "      <td>0</td>\n",
       "      <td>0</td>\n",
       "      <td>0</td>\n",
       "      <td>...</td>\n",
       "      <td>0</td>\n",
       "      <td>0</td>\n",
       "      <td>0</td>\n",
       "      <td>0</td>\n",
       "      <td>0</td>\n",
       "      <td>0</td>\n",
       "      <td>0</td>\n",
       "      <td>0</td>\n",
       "      <td>0</td>\n",
       "      <td>0</td>\n",
       "    </tr>\n",
       "    <tr>\n",
       "      <th>69824</th>\n",
       "      <td>931</td>\n",
       "      <td>528</td>\n",
       "      <td>48</td>\n",
       "      <td>1</td>\n",
       "      <td>3</td>\n",
       "      <td>59</td>\n",
       "      <td>57</td>\n",
       "      <td>0</td>\n",
       "      <td>0</td>\n",
       "      <td>0</td>\n",
       "      <td>...</td>\n",
       "      <td>0</td>\n",
       "      <td>0</td>\n",
       "      <td>0</td>\n",
       "      <td>0</td>\n",
       "      <td>0</td>\n",
       "      <td>0</td>\n",
       "      <td>0</td>\n",
       "      <td>0</td>\n",
       "      <td>0</td>\n",
       "      <td>0</td>\n",
       "    </tr>\n",
       "    <tr>\n",
       "      <th>9928</th>\n",
       "      <td>216</td>\n",
       "      <td>553</td>\n",
       "      <td>12</td>\n",
       "      <td>1</td>\n",
       "      <td>13</td>\n",
       "      <td>110</td>\n",
       "      <td>67</td>\n",
       "      <td>0</td>\n",
       "      <td>1</td>\n",
       "      <td>1</td>\n",
       "      <td>...</td>\n",
       "      <td>0</td>\n",
       "      <td>0</td>\n",
       "      <td>0</td>\n",
       "      <td>0</td>\n",
       "      <td>0</td>\n",
       "      <td>0</td>\n",
       "      <td>0</td>\n",
       "      <td>0</td>\n",
       "      <td>0</td>\n",
       "      <td>0</td>\n",
       "    </tr>\n",
       "    <tr>\n",
       "      <th>75599</th>\n",
       "      <td>798</td>\n",
       "      <td>498</td>\n",
       "      <td>39</td>\n",
       "      <td>0</td>\n",
       "      <td>0</td>\n",
       "      <td>166</td>\n",
       "      <td>30</td>\n",
       "      <td>0</td>\n",
       "      <td>0</td>\n",
       "      <td>0</td>\n",
       "      <td>...</td>\n",
       "      <td>0</td>\n",
       "      <td>0</td>\n",
       "      <td>0</td>\n",
       "      <td>0</td>\n",
       "      <td>0</td>\n",
       "      <td>0</td>\n",
       "      <td>0</td>\n",
       "      <td>0</td>\n",
       "      <td>0</td>\n",
       "      <td>0</td>\n",
       "    </tr>\n",
       "    <tr>\n",
       "      <th>95621</th>\n",
       "      <td>910</td>\n",
       "      <td>547</td>\n",
       "      <td>27</td>\n",
       "      <td>0</td>\n",
       "      <td>20</td>\n",
       "      <td>397</td>\n",
       "      <td>68</td>\n",
       "      <td>0</td>\n",
       "      <td>0</td>\n",
       "      <td>0</td>\n",
       "      <td>...</td>\n",
       "      <td>1</td>\n",
       "      <td>0</td>\n",
       "      <td>0</td>\n",
       "      <td>0</td>\n",
       "      <td>0</td>\n",
       "      <td>0</td>\n",
       "      <td>0</td>\n",
       "      <td>0</td>\n",
       "      <td>0</td>\n",
       "      <td>0</td>\n",
       "    </tr>\n",
       "  </tbody>\n",
       "</table>\n",
       "<p>5 rows × 26 columns</p>\n",
       "</div>"
      ],
      "text/plain": [
       "       user  movie  age  gender  occupation  zip  released  unknown  Action  \\\n",
       "98980   692   1310   33       0           7  615        68        0       0   \n",
       "69824   931    528   48       1           3   59        57        0       0   \n",
       "9928    216    553   12       1          13  110        67        0       1   \n",
       "75599   798    498   39       0           0  166        30        0       0   \n",
       "95621   910    547   27       0          20  397        68        0       0   \n",
       "\n",
       "       Adventure   ...     Fantasy  Film-Noir  Horror  Musical  Mystery  \\\n",
       "98980          0   ...           0          0       0        0        0   \n",
       "69824          0   ...           0          0       0        0        0   \n",
       "9928           1   ...           0          0       0        0        0   \n",
       "75599          0   ...           0          0       0        0        0   \n",
       "95621          0   ...           1          0       0        0        0   \n",
       "\n",
       "       Romance  Sci-Fi  Thriller  War  Western  \n",
       "98980        0       0         0    0        0  \n",
       "69824        0       0         0    0        0  \n",
       "9928         0       0         0    0        0  \n",
       "75599        0       0         0    0        0  \n",
       "95621        0       0         0    0        0  \n",
       "\n",
       "[5 rows x 26 columns]"
      ]
     },
     "metadata": {},
     "output_type": "display_data"
    },
    {
     "name": "stdout",
     "output_type": "stream",
     "text": [
      "----------------------------------------------------------------------------\n",
      "libFM\n",
      "  Version: 1.4.2\n",
      "  Author:  Steffen Rendle, srendle@libfm.org\n",
      "  WWW:     http://www.libfm.org/\n",
      "This program comes with ABSOLUTELY NO WARRANTY; for details see license.txt.\n",
      "This is free software, and you are welcome to redistribute it under certain\n",
      "conditions; for details see license.txt.\n",
      "----------------------------------------------------------------------------\n",
      "Loading train...\t\n",
      "has x = 0\n",
      "has xt = 1\n",
      "num_rows=75000\tnum_values=1950000\tnum_features=3587\tmin_target=1\tmax_target=5\n",
      "Loading test... \t\n",
      "has x = 0\n",
      "has xt = 1\n",
      "num_rows=25000\tnum_values=649958\tnum_features=3587\tmin_target=0\tmax_target=0\n",
      "#relations: 0\n",
      "Loading meta data...\t\n",
      "#Iter=  0\tTrain=1.06404\tTest=3.55201\n",
      "#Iter=  1\tTrain=0.946712\tTest=3.55643\n",
      "#Iter=  2\tTrain=0.926629\tTest=3.56272\n",
      "#Iter=  3\tTrain=0.916591\tTest=3.56678\n",
      "#Iter=  4\tTrain=0.909914\tTest=3.56898\n",
      "#Iter=  5\tTrain=0.905324\tTest=3.57067\n",
      "#Iter=  6\tTrain=0.900602\tTest=3.57208\n",
      "#Iter=  7\tTrain=0.898\tTest=3.57398\n",
      "#Iter=  8\tTrain=0.895074\tTest=3.57443\n",
      "#Iter=  9\tTrain=0.893688\tTest=3.57543\n",
      "#Iter= 10\tTrain=0.889769\tTest=3.57636\n",
      "#Iter= 11\tTrain=0.885612\tTest=3.57723\n",
      "#Iter= 12\tTrain=0.882456\tTest=3.57796\n",
      "#Iter= 13\tTrain=0.879211\tTest=3.57885\n",
      "#Iter= 14\tTrain=0.877903\tTest=3.57899\n",
      "#Iter= 15\tTrain=0.875361\tTest=3.5794\n",
      "#Iter= 16\tTrain=0.871089\tTest=3.57954\n",
      "#Iter= 17\tTrain=0.868936\tTest=3.57975\n",
      "#Iter= 18\tTrain=0.867597\tTest=3.58041\n",
      "#Iter= 19\tTrain=0.865114\tTest=3.5808\n",
      "#Iter= 20\tTrain=0.862147\tTest=3.58137\n",
      "#Iter= 21\tTrain=0.857492\tTest=3.58176\n",
      "#Iter= 22\tTrain=0.854572\tTest=3.58174\n",
      "#Iter= 23\tTrain=0.852783\tTest=3.58213\n",
      "#Iter= 24\tTrain=0.850206\tTest=3.58246\n",
      "#Iter= 25\tTrain=0.849725\tTest=3.58291\n",
      "#Iter= 26\tTrain=0.848618\tTest=3.58307\n",
      "#Iter= 27\tTrain=0.845608\tTest=3.58339\n",
      "#Iter= 28\tTrain=0.843379\tTest=3.58363\n",
      "#Iter= 29\tTrain=0.844004\tTest=3.58383\n",
      "#Iter= 30\tTrain=0.842557\tTest=3.58405\n",
      "#Iter= 31\tTrain=0.84147\tTest=3.5842\n",
      "#Iter= 32\tTrain=0.840128\tTest=3.58442\n",
      "#Iter= 33\tTrain=0.839505\tTest=3.58444\n",
      "#Iter= 34\tTrain=0.837468\tTest=3.58449\n",
      "#Iter= 35\tTrain=0.836404\tTest=3.5844\n",
      "#Iter= 36\tTrain=0.835261\tTest=3.58464\n",
      "#Iter= 37\tTrain=0.834328\tTest=3.58487\n",
      "#Iter= 38\tTrain=0.83655\tTest=3.58488\n",
      "#Iter= 39\tTrain=0.835356\tTest=3.58513\n",
      "#Iter= 40\tTrain=0.836682\tTest=3.5851\n",
      "#Iter= 41\tTrain=0.834512\tTest=3.58518\n",
      "#Iter= 42\tTrain=0.83242\tTest=3.58529\n",
      "#Iter= 43\tTrain=0.83316\tTest=3.58551\n",
      "#Iter= 44\tTrain=0.830437\tTest=3.58573\n",
      "#Iter= 45\tTrain=0.831455\tTest=3.58586\n",
      "#Iter= 46\tTrain=0.833193\tTest=3.58584\n",
      "#Iter= 47\tTrain=0.830555\tTest=3.58597\n",
      "#Iter= 48\tTrain=0.830529\tTest=3.58611\n",
      "#Iter= 49\tTrain=0.8306\tTest=3.58614\n",
      "#Iter= 50\tTrain=0.828455\tTest=3.58614\n",
      "#Iter= 51\tTrain=0.829784\tTest=3.58618\n",
      "#Iter= 52\tTrain=0.828954\tTest=3.58639\n",
      "#Iter= 53\tTrain=0.828189\tTest=3.58661\n",
      "#Iter= 54\tTrain=0.827308\tTest=3.58669\n",
      "#Iter= 55\tTrain=0.828703\tTest=3.58699\n",
      "#Iter= 56\tTrain=0.827761\tTest=3.58699\n",
      "#Iter= 57\tTrain=0.827126\tTest=3.58717\n",
      "#Iter= 58\tTrain=0.826116\tTest=3.58724\n",
      "#Iter= 59\tTrain=0.827876\tTest=3.58736\n",
      "#Iter= 60\tTrain=0.826754\tTest=3.58751\n",
      "#Iter= 61\tTrain=0.826529\tTest=3.58761\n",
      "#Iter= 62\tTrain=0.824992\tTest=3.5877\n",
      "#Iter= 63\tTrain=0.825642\tTest=3.58769\n",
      "#Iter= 64\tTrain=0.826315\tTest=3.58779\n",
      "#Iter= 65\tTrain=0.826834\tTest=3.5879\n",
      "#Iter= 66\tTrain=0.825938\tTest=3.58806\n",
      "#Iter= 67\tTrain=0.826653\tTest=3.58815\n",
      "#Iter= 68\tTrain=0.825674\tTest=3.58817\n",
      "#Iter= 69\tTrain=0.825528\tTest=3.58831\n",
      "#Iter= 70\tTrain=0.823977\tTest=3.58833\n",
      "#Iter= 71\tTrain=0.823406\tTest=3.58836\n",
      "#Iter= 72\tTrain=0.823832\tTest=3.58838\n",
      "#Iter= 73\tTrain=0.82293\tTest=3.58838\n",
      "#Iter= 74\tTrain=0.822491\tTest=3.5884\n",
      "#Iter= 75\tTrain=0.822151\tTest=3.58846\n",
      "#Iter= 76\tTrain=0.822409\tTest=3.58845\n",
      "#Iter= 77\tTrain=0.821368\tTest=3.58852\n",
      "#Iter= 78\tTrain=0.820675\tTest=3.58863\n",
      "#Iter= 79\tTrain=0.821537\tTest=3.58868\n",
      "#Iter= 80\tTrain=0.822057\tTest=3.58877\n",
      "#Iter= 81\tTrain=0.819809\tTest=3.58881\n",
      "#Iter= 82\tTrain=0.819639\tTest=3.58895\n",
      "#Iter= 83\tTrain=0.818937\tTest=3.58889\n",
      "#Iter= 84\tTrain=0.819583\tTest=3.58901\n",
      "#Iter= 85\tTrain=0.81995\tTest=3.58901\n",
      "#Iter= 86\tTrain=0.818569\tTest=3.58907\n",
      "#Iter= 87\tTrain=0.819779\tTest=3.58906\n",
      "#Iter= 88\tTrain=0.819083\tTest=3.58909\n",
      "#Iter= 89\tTrain=0.818202\tTest=3.58913\n",
      "#Iter= 90\tTrain=0.818239\tTest=3.58916\n",
      "#Iter= 91\tTrain=0.817696\tTest=3.58919\n",
      "#Iter= 92\tTrain=0.818702\tTest=3.58928\n",
      "#Iter= 93\tTrain=0.817898\tTest=3.5893\n",
      "#Iter= 94\tTrain=0.818344\tTest=3.58935\n",
      "#Iter= 95\tTrain=0.817811\tTest=3.58942\n",
      "#Iter= 96\tTrain=0.818484\tTest=3.58948\n",
      "#Iter= 97\tTrain=0.817635\tTest=3.58952\n",
      "#Iter= 98\tTrain=0.816748\tTest=3.58956\n",
      "#Iter= 99\tTrain=0.815658\tTest=3.5896\n",
      "\n"
     ]
    },
    {
     "data": {
      "text/html": [
       "<div>\n",
       "<table border=\"1\" class=\"dataframe\">\n",
       "  <thead>\n",
       "    <tr style=\"text-align: right;\">\n",
       "      <th></th>\n",
       "      <th>time</th>\n",
       "      <th>RMSE</th>\n",
       "    </tr>\n",
       "  </thead>\n",
       "  <tbody>\n",
       "    <tr>\n",
       "      <th>logistic</th>\n",
       "      <td>3.343506</td>\n",
       "      <td>0.942348</td>\n",
       "    </tr>\n",
       "    <tr>\n",
       "      <th>fastFM</th>\n",
       "      <td>26.306622</td>\n",
       "      <td>0.896543</td>\n",
       "    </tr>\n",
       "    <tr>\n",
       "      <th>libFM</th>\n",
       "      <td>31.071487</td>\n",
       "      <td>0.896075</td>\n",
       "    </tr>\n",
       "  </tbody>\n",
       "</table>\n",
       "</div>"
      ],
      "text/plain": [
       "               time      RMSE\n",
       "logistic   3.343506  0.942348\n",
       "fastFM    26.306622  0.896543\n",
       "libFM     31.071487  0.896075"
      ]
     },
     "execution_count": 104,
     "metadata": {},
     "output_type": "execute_result"
    }
   ],
   "source": [
    "trainX, testX, trainY, testY = load_problems.load_problem_movielens_100k(all_features=True)\n",
    "display(trainX.head())\n",
    "test_on_dataset(trainX, testX, trainY, testY, task_name='ml100k', classification=False)"
   ]
  },
  {
   "cell_type": "code",
   "execution_count": 105,
   "metadata": {
    "collapsed": false
   },
   "outputs": [
    {
     "data": {
      "text/html": [
       "<div>\n",
       "<table border=\"1\" class=\"dataframe\">\n",
       "  <thead>\n",
       "    <tr style=\"text-align: right;\">\n",
       "      <th></th>\n",
       "      <th>time</th>\n",
       "      <th>RMSE</th>\n",
       "    </tr>\n",
       "  </thead>\n",
       "  <tbody>\n",
       "    <tr>\n",
       "      <th>logistic</th>\n",
       "      <td>3.343506</td>\n",
       "      <td>0.942348</td>\n",
       "    </tr>\n",
       "    <tr>\n",
       "      <th>fastFM</th>\n",
       "      <td>26.306622</td>\n",
       "      <td>0.896543</td>\n",
       "    </tr>\n",
       "    <tr>\n",
       "      <th>libFM</th>\n",
       "      <td>31.071487</td>\n",
       "      <td>0.896075</td>\n",
       "    </tr>\n",
       "  </tbody>\n",
       "</table>\n",
       "</div>"
      ],
      "text/plain": [
       "               time      RMSE\n",
       "logistic   3.343506  0.942348\n",
       "fastFM    26.306622  0.896543\n",
       "libFM     31.071487  0.896075"
      ]
     },
     "metadata": {},
     "output_type": "display_data"
    }
   ],
   "source": [
    "display(all_results['ml100k'])"
   ]
  },
  {
   "cell_type": "markdown",
   "metadata": {},
   "source": [
    "## Movielens 1M - No Side Data"
   ]
  },
  {
   "cell_type": "code",
   "execution_count": 108,
   "metadata": {
    "collapsed": false
   },
   "outputs": [
    {
     "data": {
      "text/html": [
       "<div>\n",
       "<table border=\"1\" class=\"dataframe\">\n",
       "  <thead>\n",
       "    <tr style=\"text-align: right;\">\n",
       "      <th></th>\n",
       "      <th>user</th>\n",
       "      <th>movie</th>\n",
       "    </tr>\n",
       "  </thead>\n",
       "  <tbody>\n",
       "    <tr>\n",
       "      <th>610738</th>\n",
       "      <td>3703</td>\n",
       "      <td>3541</td>\n",
       "    </tr>\n",
       "    <tr>\n",
       "      <th>324752</th>\n",
       "      <td>1923</td>\n",
       "      <td>756</td>\n",
       "    </tr>\n",
       "    <tr>\n",
       "      <th>808217</th>\n",
       "      <td>4836</td>\n",
       "      <td>1288</td>\n",
       "    </tr>\n",
       "    <tr>\n",
       "      <th>133807</th>\n",
       "      <td>866</td>\n",
       "      <td>1106</td>\n",
       "    </tr>\n",
       "    <tr>\n",
       "      <th>431857</th>\n",
       "      <td>2630</td>\n",
       "      <td>2857</td>\n",
       "    </tr>\n",
       "  </tbody>\n",
       "</table>\n",
       "</div>"
      ],
      "text/plain": [
       "        user  movie\n",
       "610738  3703   3541\n",
       "324752  1923    756\n",
       "808217  4836   1288\n",
       "133807   866   1106\n",
       "431857  2630   2857"
      ]
     },
     "execution_count": 108,
     "metadata": {},
     "output_type": "execute_result"
    }
   ],
   "source": [
    "trainX, testX, trainY, testY = load_problems.load_problem_movielens_1m(all_features=False)\n",
    "trainX.head()\n",
    "test_on_dataset(trainX, testX, trainY, testY, task_name='ml-1m,ids', classification=False)"
   ]
  },
  {
   "cell_type": "code",
   "execution_count": null,
   "metadata": {
    "collapsed": true
   },
   "outputs": [],
   "source": [
    "display(all_results['ml-1m,ids'])"
   ]
  },
  {
   "cell_type": "markdown",
   "metadata": {},
   "source": [
    "## Movielens 1M - With Side Data"
   ]
  },
  {
   "cell_type": "code",
   "execution_count": null,
   "metadata": {
    "collapsed": true
   },
   "outputs": [],
   "source": [
    "trainX, testX, trainY, testY = load_problems.load_problem_movielens_1m(all_features=True)\n",
    "trainX.head()\n",
    "test_on_dataset(trainX, testX, trainY, testY, task_name='ml-1m', classification=False)"
   ]
  },
  {
   "cell_type": "code",
   "execution_count": null,
   "metadata": {
    "collapsed": true
   },
   "outputs": [],
   "source": [
    "display(all_results['ml-1m'])"
   ]
  },
  {
   "cell_type": "markdown",
   "metadata": {},
   "source": [
    "# Train Test Split Data"
   ]
  },
  {
   "cell_type": "code",
   "execution_count": 38,
   "metadata": {
    "collapsed": false
   },
   "outputs": [
    {
     "ename": "NameError",
     "evalue": "name 'ratings' is not defined",
     "output_type": "error",
     "traceback": [
      "\u001b[0;31m---------------------------------------------------------------------------\u001b[0m",
      "\u001b[0;31mNameError\u001b[0m                                 Traceback (most recent call last)",
      "\u001b[0;32m<ipython-input-38-6c8767c4ee8a>\u001b[0m in \u001b[0;36m<module>\u001b[0;34m()\u001b[0m\n\u001b[0;32m----> 1\u001b[0;31m \u001b[0mX\u001b[0m \u001b[0;34m=\u001b[0m \u001b[0mratings\u001b[0m\u001b[0;34m.\u001b[0m\u001b[0mloc\u001b[0m\u001b[0;34m[\u001b[0m\u001b[0;34m:\u001b[0m\u001b[0;34m,\u001b[0m \u001b[0;34m[\u001b[0m\u001b[0;34m'user_id'\u001b[0m\u001b[0;34m,\u001b[0m \u001b[0;34m'movie_id'\u001b[0m\u001b[0;34m]\u001b[0m\u001b[0;34m]\u001b[0m\u001b[0;34m.\u001b[0m\u001b[0mvalues\u001b[0m\u001b[0;34m\u001b[0m\u001b[0m\n\u001b[0m\u001b[1;32m      2\u001b[0m \u001b[0my\u001b[0m \u001b[0;34m=\u001b[0m \u001b[0mratings\u001b[0m\u001b[0;34m.\u001b[0m\u001b[0mrating\u001b[0m\u001b[0;34m.\u001b[0m\u001b[0mvalues\u001b[0m\u001b[0;34m\u001b[0m\u001b[0m\n\u001b[1;32m      3\u001b[0m \u001b[0;34m\u001b[0m\u001b[0m\n\u001b[1;32m      4\u001b[0m \u001b[0mX_train\u001b[0m\u001b[0;34m,\u001b[0m \u001b[0mX_test\u001b[0m\u001b[0;34m,\u001b[0m \u001b[0my_train\u001b[0m\u001b[0;34m,\u001b[0m \u001b[0my_test\u001b[0m \u001b[0;34m=\u001b[0m \u001b[0mtrain_test_split\u001b[0m\u001b[0;34m(\u001b[0m\u001b[0mX\u001b[0m\u001b[0;34m,\u001b[0m \u001b[0my\u001b[0m\u001b[0;34m,\u001b[0m \u001b[0mrandom_state\u001b[0m\u001b[0;34m=\u001b[0m\u001b[0;36m123\u001b[0m\u001b[0;34m)\u001b[0m\u001b[0;34m\u001b[0m\u001b[0m\n",
      "\u001b[0;31mNameError\u001b[0m: name 'ratings' is not defined"
     ]
    }
   ],
   "source": [
    "X = ratings.loc[:, ['user_id', 'movie_id']].values\n",
    "y = ratings.rating.values\n",
    "\n",
    "X_train, X_test, y_train, y_test = train_test_split(X, y, random_state=123)"
   ]
  },
  {
   "cell_type": "code",
   "execution_count": 15,
   "metadata": {
    "collapsed": false
   },
   "outputs": [],
   "source": [
    "def save_split_data(X, y, fn):\n",
    "    df = (\n",
    "        pd.concat(\n",
    "            [pd.DataFrame(X_train, columns=['user_id', 'movie_id']),\n",
    "             pd.DataFrame(y_train, columns=['target'])], axis=1)\n",
    "    )\n",
    "\n",
    "    df.to_csv('./data/' + fn, index=False)"
   ]
  },
  {
   "cell_type": "code",
   "execution_count": 16,
   "metadata": {
    "collapsed": false
   },
   "outputs": [],
   "source": [
    "save_split_data(X_train, y_train, 'train.csv')\n",
    "save_split_data(X_test, y_test, 'test.csv')"
   ]
  },
  {
   "cell_type": "markdown",
   "metadata": {},
   "source": [
    "# Dump to libfm format"
   ]
  },
  {
   "cell_type": "code",
   "execution_count": 17,
   "metadata": {
    "collapsed": false
   },
   "outputs": [
    {
     "name": "stdout",
     "output_type": "stream",
     "text": [
      "Unique Users:      671\n",
      "Unique Movies:     9066\n",
      "Unique categories: 9737\n"
     ]
    }
   ],
   "source": [
    "print (\n",
    "    'Unique Users:      {:}\\n'\n",
    "    'Unique Movies:     {:}\\n'\n",
    "    'Unique categories: {:}'\n",
    "    .format(ratings.user_id.unique().shape[0],\n",
    "            ratings.movie_id.unique().shape[0],\n",
    "            ratings.user_id.unique().shape[0] + ratings.movie_id.unique().shape[0])\n",
    "    )"
   ]
  },
  {
   "cell_type": "code",
   "execution_count": 18,
   "metadata": {
    "collapsed": false
   },
   "outputs": [
    {
     "data": {
      "text/plain": [
       "OneHotEncoder(categorical_features=[0, 1], dtype=<type 'float'>,\n",
       "       handle_unknown='ignore', n_values='auto', sparse=True)"
      ]
     },
     "execution_count": 18,
     "metadata": {},
     "output_type": "execute_result"
    }
   ],
   "source": [
    "encoder = OneHotEncoder(categorical_features=[0,1], handle_unknown='ignore')\n",
    "encoder.fit(X)"
   ]
  },
  {
   "cell_type": "code",
   "execution_count": 23,
   "metadata": {
    "collapsed": false
   },
   "outputs": [
    {
     "name": "stdout",
     "output_type": "stream",
     "text": [
      "Training Data:\n",
      "<75003x9737 sparse matrix of type '<type 'numpy.float64'>'\n",
      "\twith 150006 stored elements in Compressed Sparse Row format> \n",
      "\n",
      "\n",
      "Test Data:\n",
      "<25001x9737 sparse matrix of type '<type 'numpy.float64'>'\n",
      "\twith 50002 stored elements in Compressed Sparse Row format>\n"
     ]
    }
   ],
   "source": [
    "encoder = OneHotEncoder(categorical_features=[0,1], handle_unknown='ignore')\n",
    "encoder.fit(X)\n",
    "X_train_encoded = encoder.transform(X_train)\n",
    "X_test_encoded = encoder.transform(X_test)\n",
    "\n",
    "print 'Training Data:\\n', X_train_encoded.__repr__(), '\\n\\n'\n",
    "print 'Test Data:\\n', X_test_encoded.__repr__()"
   ]
  },
  {
   "cell_type": "code",
   "execution_count": 24,
   "metadata": {
    "collapsed": false
   },
   "outputs": [],
   "source": [
    "dump_svmlight_file(X_train_encoded, y_train, './data/train.libfm')\n",
    "dump_svmlight_file(X_test_encoded, y_test, './data/test.libfm')"
   ]
  },
  {
   "cell_type": "markdown",
   "metadata": {},
   "source": [
    "# Read in Predictions from libfm output.libfm"
   ]
  },
  {
   "cell_type": "code",
   "execution_count": null,
   "metadata": {
    "collapsed": false
   },
   "outputs": [],
   "source": [
    "scores = pd.read_csv('./data/test_output.libfm', header=None, names=['score'])"
   ]
  },
  {
   "cell_type": "code",
   "execution_count": null,
   "metadata": {
    "collapsed": false
   },
   "outputs": [],
   "source": [
    "rmse = pd.concat([ratings, scores], axis=1).assign(rss=lambda df: (df.score - df.rating)**2)\n",
    "display(rmse.head())\n",
    "\n",
    "print 'RMSE Score: {:0.6}'.format(np.sqrt(rmse.rss.sum() / len(rmse)))"
   ]
  },
  {
   "cell_type": "code",
   "execution_count": 11,
   "metadata": {
    "collapsed": false
   },
   "outputs": [
    {
     "data": {
      "text/plain": [
       "array([[  456,  2692],\n",
       "       [  664, 63062],\n",
       "       [   23,  1222],\n",
       "       [  119,  2391],\n",
       "       [  228,  4993]])"
      ]
     },
     "execution_count": 11,
     "metadata": {},
     "output_type": "execute_result"
    }
   ],
   "source": [
    "X_train[:5]"
   ]
  }
 ],
 "metadata": {
  "kernelspec": {
   "display_name": "Python 2",
   "language": "python",
   "name": "python2"
  },
  "language_info": {
   "codemirror_mode": {
    "name": "ipython",
    "version": 2
   },
   "file_extension": ".py",
   "mimetype": "text/x-python",
   "name": "python",
   "nbconvert_exporter": "python",
   "pygments_lexer": "ipython2",
   "version": "2.7.9"
  },
  "toc": {
   "nav_menu": {
    "height": "158px",
    "width": "252px"
   },
   "navigate_menu": true,
   "number_sections": true,
   "sideBar": true,
   "threshold": 4,
   "toc_cell": false,
   "toc_position": {
    "height": "1051px",
    "left": "0px",
    "right": "auto",
    "top": "129px",
    "width": "212px"
   },
   "toc_section_display": "block",
   "toc_window_display": true
  }
 },
 "nbformat": 4,
 "nbformat_minor": 0
}
